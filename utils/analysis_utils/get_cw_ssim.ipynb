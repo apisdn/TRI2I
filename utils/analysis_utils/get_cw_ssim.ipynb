{
 "cells": [
  {
   "cell_type": "code",
   "execution_count": 1,
   "id": "273f3da5-6015-483b-a601-070e14b7a98c",
   "metadata": {},
   "outputs": [],
   "source": [
    "import ssim.ssimlib as pyssim\n",
    "import glob, os\n",
    "import cv2\n",
    "import numpy as np\n",
    "from PIL import Image"
   ]
  },
  {
   "cell_type": "code",
   "execution_count": 2,
   "id": "67f9286e-5a78-49b8-872a-c365dc0f5735",
   "metadata": {},
   "outputs": [],
   "source": [
    "TEST = \"ab_daynight\" #ab for RGB to TIR, ba for TIR to RGB\n",
    "TYPE = \"B\" #keep as B, they're all labeled that for some reason\n",
    "DIR = \"C:/Users/emmaa/Desktop/results/\" + TEST + \"/test_latest/images\"\n",
    "\n",
    "os.chdir(DIR)\n",
    "\n",
    "real_files = glob.glob(\"*_real_\"+TYPE+\".png\")\n",
    "fake_files = glob.glob(\"*_fake_\"+TYPE+\".png\")"
   ]
  },
  {
   "cell_type": "code",
   "execution_count": 3,
   "id": "a391dea6-9cb0-4911-a317-5338ab3b09bd",
   "metadata": {},
   "outputs": [
    {
     "name": "stdout",
     "output_type": "stream",
     "text": [
      "0\n",
      "100\n",
      "200\n",
      "300\n",
      "400\n",
      "500\n",
      "600\n",
      "700\n",
      "800\n",
      "900\n",
      "1000\n",
      "1100\n",
      "1200\n",
      "1300\n",
      "1400\n",
      "1500\n",
      "1600\n",
      "1700\n",
      "1800\n",
      "1900\n",
      "2000\n",
      "2100\n",
      "2200\n",
      "2300\n",
      "2400\n",
      "2500\n",
      "2600\n",
      "2700\n",
      "2800\n",
      "2900\n",
      "3000\n",
      "3100\n",
      "3200\n",
      "3300\n",
      "3400\n",
      "3500\n",
      "3600\n",
      "3700\n",
      "3800\n",
      "3900\n",
      "4000\n",
      "4100\n",
      "4200\n",
      "4300\n",
      "4400\n",
      "4500\n",
      "4600\n",
      "4700\n",
      "4800\n",
      "4900\n",
      "5000\n",
      "5100\n",
      "5200\n",
      "5300\n",
      "5400\n",
      "5500\n",
      "5600\n",
      "5700\n",
      "5800\n",
      "5900\n",
      "6000\n",
      "6100\n",
      "6200\n",
      "6300\n",
      "6400\n",
      "6500\n",
      "6600\n",
      "6700\n",
      "6800\n",
      "6900\n",
      "7000\n",
      "7100\n",
      "7200\n",
      "7300\n",
      "7400\n",
      "7500\n",
      "7600\n",
      "7700\n",
      "7800\n",
      "7900\n",
      "8000\n",
      "8100\n",
      "8200\n",
      "8300\n",
      "8400\n",
      "8500\n",
      "8600\n",
      "8700\n",
      "8800\n",
      "8900\n",
      "9000\n",
      "9100\n",
      "9200\n",
      "9300\n",
      "9400\n",
      "9500\n",
      "9600\n",
      "9700\n",
      "9800\n",
      "9900\n"
     ]
    }
   ],
   "source": [
    "cw_ssims = []\n",
    "\n",
    "for index, real_file in enumerate(real_files):\n",
    "    img1 = Image.fromarray(cv2.imread(real_file))\n",
    "    img2 = Image.fromarray(cv2.imread(fake_files[index]))\n",
    "    \n",
    "    similarity = pyssim.SSIM(img1).cw_ssim_value(img2)\n",
    "    cw_ssims.append (similarity)\n",
    "    if (index % 100 == 0):\n",
    "        print(index)"
   ]
  },
  {
   "cell_type": "code",
   "execution_count": 4,
   "id": "3001d42c-265f-4e7e-b02f-ae6bb57c755f",
   "metadata": {},
   "outputs": [
    {
     "data": {
      "text/plain": [
       "10000"
      ]
     },
     "execution_count": 4,
     "metadata": {},
     "output_type": "execute_result"
    }
   ],
   "source": [
    "np.array(cw_ssims).size"
   ]
  },
  {
   "cell_type": "code",
   "execution_count": 5,
   "id": "6b20a3c9-9ced-4510-9bf8-5694ff3c71e2",
   "metadata": {},
   "outputs": [
    {
     "name": "stdout",
     "output_type": "stream",
     "text": [
      "10000\n",
      "0.7074139892026132\n",
      "0.05087532082528397\n"
     ]
    }
   ],
   "source": [
    "arr = np.array(cw_ssims)\n",
    "print(arr.size)\n",
    "\n",
    "print(np.mean(arr))\n",
    "print(np.std(arr))"
   ]
  },
  {
   "cell_type": "code",
   "execution_count": null,
   "id": "61afb652-63b6-4cf3-b4c7-592b5866149b",
   "metadata": {},
   "outputs": [],
   "source": []
  }
 ],
 "metadata": {
  "kernelspec": {
   "display_name": "Python 3 (ipykernel)",
   "language": "python",
   "name": "python3"
  },
  "language_info": {
   "codemirror_mode": {
    "name": "ipython",
    "version": 3
   },
   "file_extension": ".py",
   "mimetype": "text/x-python",
   "name": "python",
   "nbconvert_exporter": "python",
   "pygments_lexer": "ipython3",
   "version": "3.9.18"
  }
 },
 "nbformat": 4,
 "nbformat_minor": 5
}
