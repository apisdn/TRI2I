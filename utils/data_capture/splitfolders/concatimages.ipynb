{
 "cells": [
  {
   "cell_type": "code",
   "execution_count": 1,
   "id": "c7bc8be9-5f02-4220-908a-7b9ab937cc60",
   "metadata": {},
   "outputs": [],
   "source": [
    "import os\n",
    "import cv2"
   ]
  },
  {
   "cell_type": "code",
   "execution_count": 2,
   "id": "7ba6f3cd-e62d-4f30-acc8-75f357a419ca",
   "metadata": {},
   "outputs": [
    {
     "name": "stdout",
     "output_type": "stream",
     "text": [
      "C:\\Users\\emmaa\\Desktop\\split\\output\n"
     ]
    }
   ],
   "source": [
    "cwd = os.getcwd()\n",
    "path = os.path.join(cwd,\"output\")\n",
    "\n",
    "print(path)"
   ]
  },
  {
   "cell_type": "code",
   "execution_count": 15,
   "id": "81472857-c2e3-4695-8602-8232985e7ad2",
   "metadata": {},
   "outputs": [],
   "source": [
    "def concat_all(path, put_path):\n",
    "    for file in os.listdir(os.path.join(path, \"class1\")):\n",
    "        #grab files into filename and otherfile\n",
    "        filename = os.fsdecode(file)\n",
    "        #print(filename)\n",
    "        filepath = os.path.join(path, \"class1\", filename)\n",
    "        #print(filepath)\n",
    "        otherfile = os.path.join(path, \"class2\", filename)\n",
    "        #print(otherfile)\n",
    "        \n",
    "        # read the images \n",
    "        img1 = cv2.imread(filepath)\n",
    "        img2 = cv2.imread(otherfile)\n",
    "        \n",
    "        im_h = cv2.hconcat([img1, img2])\n",
    "        \n",
    "        cv2.imwrite(os.path.join(put_path, filename), im_h)"
   ]
  },
  {
   "cell_type": "code",
   "execution_count": 4,
   "id": "592b6900-acf7-4181-a6ca-5e466f4197ce",
   "metadata": {},
   "outputs": [
    {
     "name": "stdout",
     "output_type": "stream",
     "text": [
      "C:\\Users\\emmaa\\Desktop\\split\\output\\dataset\n"
     ]
    }
   ],
   "source": [
    "os.chdir(path)\n",
    "#os.mkdir('dataset')\n",
    "result_path = os.path.join(path,\"dataset\")\n",
    "os.chdir(result_path)\n",
    "print(os.getcwd())\n",
    "\n",
    "#os.mkdir('train')\n",
    "#os.mkdir('test')\n",
    "#os.mkdir('val')\n",
    "\n",
    "os.chdir(cwd)"
   ]
  },
  {
   "cell_type": "code",
   "execution_count": 16,
   "id": "da411d57-4206-4ef6-8b39-f4991e1c87d5",
   "metadata": {},
   "outputs": [],
   "source": [
    "train_in = os.path.join(path,\"train\")\n",
    "test_in = os.path.join(path,\"test\")\n",
    "test_in = \"C:\\\\Users\\\\emmaa\\\\Desktop\\\\split\\\\output\\\\test\"\n",
    "val_in = os.path.join(path,\"val\")\n",
    "\n",
    "train_out = os.path.join(result_path,\"train\")\n",
    "test_out = os.path.join(result_path,\"test\")\n",
    "val_out = os.path.join(result_path,\"val\")"
   ]
  },
  {
   "cell_type": "code",
   "execution_count": 17,
   "id": "ed2d5920-4ad7-4b5c-a162-ade60eca3fde",
   "metadata": {},
   "outputs": [],
   "source": [
    "#concat_all(train_in, train_out)\n",
    "concat_all(test_in, test_out)\n",
    "concat_all(val_in, val_out)"
   ]
  },
  {
   "cell_type": "code",
   "execution_count": null,
   "id": "aa8dd4f3-0d0e-4b4c-ab2b-bc4ec2afef5b",
   "metadata": {},
   "outputs": [],
   "source": []
  }
 ],
 "metadata": {
  "kernelspec": {
   "display_name": "Python 3 (ipykernel)",
   "language": "python",
   "name": "python3"
  },
  "language_info": {
   "codemirror_mode": {
    "name": "ipython",
    "version": 3
   },
   "file_extension": ".py",
   "mimetype": "text/x-python",
   "name": "python",
   "nbconvert_exporter": "python",
   "pygments_lexer": "ipython3",
   "version": "3.10.9"
  }
 },
 "nbformat": 4,
 "nbformat_minor": 5
}
